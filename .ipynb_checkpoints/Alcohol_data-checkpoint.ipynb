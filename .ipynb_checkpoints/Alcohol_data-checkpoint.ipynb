{
 "cells": [
  {
   "cell_type": "code",
   "execution_count": 38,
   "metadata": {},
   "outputs": [],
   "source": [
    "from __future__ import print_function\n",
    "import numpy as np\n",
    "import pandas as pd\n",
    "from datetime import datetime, timedelta\n",
    "import time\n",
    "import intrinio_sdk\n",
    "from intrinio_sdk.rest import ApiException\n",
    "from pprint import pprint"
   ]
  },
  {
   "cell_type": "code",
   "execution_count": 39,
   "metadata": {},
   "outputs": [],
   "source": [
    "intrinio_sdk.ApiClient().configuration.api_key['api_key'] = 'OmNhMjMyMDU0NWUwNjg0MjhlMzY0ZGQ2OTI2ZDA1MmRl'"
   ]
  },
  {
   "cell_type": "code",
   "execution_count": 40,
   "metadata": {},
   "outputs": [],
   "source": [
    "security_api = intrinio_sdk.SecurityApi()"
   ]
  },
  {
   "cell_type": "code",
   "execution_count": 45,
   "metadata": {},
   "outputs": [],
   "source": [
    "identifier = ('AAPL') # str | A Security identifier (Ticker, FIGI, ISIN, CUSIP, Intrinio ID)\n",
    "start_date = '2018-01-01' # date | Return prices on or after the date (optional)\n",
    "end_date = '2019-01-01' # date | Return prices on or before the date (optional)\n",
    "frequency = 'daily' # str | Return stock prices in the given frequency (optional) (default to daily)\n",
    "page_size = 1 # int | The number of results to return (optional) (default to 100)"
   ]
  },
  {
   "cell_type": "code",
   "execution_count": 46,
   "metadata": {},
   "outputs": [
    {
     "name": "stdout",
     "output_type": "stream",
     "text": [
      "{'next_page': 'MjAxOC0xMi0zMXwxMDE5MDU0NzA5MQ==',\n",
      " 'security': {'code': 'EQS',\n",
      "              'company_id': 'com_NX6GzO',\n",
      "              'composite_figi': 'BBG000B9XRY4',\n",
      "              'composite_ticker': 'AAPL:US',\n",
      "              'currency': 'USD',\n",
      "              'figi': 'BBG000B9Y5X2',\n",
      "              'id': 'sec_agjrgj',\n",
      "              'name': 'Apple Inc',\n",
      "              'share_class_figi': 'BBG001S5N8V8',\n",
      "              'ticker': 'AAPL'},\n",
      " 'stock_prices': [{'adj_close': 155.871605226399,\n",
      "                   'adj_high': 157.472416691258,\n",
      "                   'adj_low': 154.626529642621,\n",
      "                   'adj_open': 156.652247854324,\n",
      "                   'adj_volume': 35003466.0,\n",
      "                   'close': 157.74,\n",
      "                   'date': datetime.date(2018, 12, 31),\n",
      "                   'frequency': 'daily',\n",
      "                   'high': 159.36,\n",
      "                   'intraperiod': False,\n",
      "                   'low': 156.48,\n",
      "                   'open': 158.53,\n",
      "                   'volume': 35003466.0}]}\n"
     ]
    }
   ],
   "source": [
    "api_response = security_api.get_security_stock_prices(identifier, start_date=start_date, end_date=end_date, frequency=frequency, page_size=page_size)\n",
    "pprint(api_response)\n"
   ]
  },
  {
   "cell_type": "code",
   "execution_count": 48,
   "metadata": {},
   "outputs": [
    {
     "ename": "TypeError",
     "evalue": "'ApiResponseSecurityStockPrices' object is not callable",
     "output_type": "error",
     "traceback": [
      "\u001b[1;31m---------------------------------------------------------------------------\u001b[0m",
      "\u001b[1;31mTypeError\u001b[0m                                 Traceback (most recent call last)",
      "\u001b[1;32m<ipython-input-48-30d1bae6c7a3>\u001b[0m in \u001b[0;36m<module>\u001b[1;34m\u001b[0m\n\u001b[1;32m----> 1\u001b[1;33m \u001b[0mtickers_df\u001b[0m\u001b[1;33m=\u001b[0m \u001b[0mapi_response\u001b[0m\u001b[1;33m(\u001b[0m\u001b[0midentifier\u001b[0m\u001b[1;33m,\u001b[0m \u001b[0mstart_date\u001b[0m\u001b[1;33m,\u001b[0m \u001b[0mend_date\u001b[0m\u001b[1;33m,\u001b[0m \u001b[0moutput_format\u001b[0m\u001b[1;33m=\u001b[0m\u001b[1;34m\"pandas\"\u001b[0m\u001b[1;33m,\u001b[0m \u001b[0mcolumns\u001b[0m\u001b[1;33m=\u001b[0m\u001b[1;34m'close'\u001b[0m \u001b[1;33m)\u001b[0m\u001b[1;33m\u001b[0m\u001b[1;33m\u001b[0m\u001b[0m\n\u001b[0m\u001b[0;32m      2\u001b[0m \u001b[0mtickers_df\u001b[0m\u001b[1;33m.\u001b[0m\u001b[0mhead\u001b[0m\u001b[1;33m(\u001b[0m\u001b[1;33m)\u001b[0m\u001b[1;33m\u001b[0m\u001b[1;33m\u001b[0m\u001b[0m\n",
      "\u001b[1;31mTypeError\u001b[0m: 'ApiResponseSecurityStockPrices' object is not callable"
     ]
    }
   ],
   "source": [
    "tickers_df= api_response(identifier, start_date, end_date, output_format=\"pandas\", columns='close' )\n",
    "tickers_df.head()"
   ]
  },
  {
   "cell_type": "code",
   "execution_count": null,
   "metadata": {},
   "outputs": [],
   "source": []
  }
 ],
 "metadata": {
  "kernelspec": {
   "display_name": "Python 3",
   "language": "python",
   "name": "python3"
  },
  "language_info": {
   "codemirror_mode": {
    "name": "ipython",
    "version": 3
   },
   "file_extension": ".py",
   "mimetype": "text/x-python",
   "name": "python",
   "nbconvert_exporter": "python",
   "pygments_lexer": "ipython3",
   "version": "3.7.3"
  }
 },
 "nbformat": 4,
 "nbformat_minor": 4
}
