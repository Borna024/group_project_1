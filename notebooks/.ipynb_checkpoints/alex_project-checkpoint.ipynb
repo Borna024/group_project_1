{
<<<<<<< HEAD
 "cells": [
  {
   "cell_type": "code",
   "execution_count": null,
   "metadata": {},
   "outputs": [],
   "source": [
    "import pandas as pd\n",
    "from pathlib import Path"
   ]
  }
 ],
 "metadata": {
  "kernelspec": {
   "display_name": "Python 3",
   "language": "python",
   "name": "python3"
  },
  "language_info": {
   "codemirror_mode": {
    "name": "ipython",
    "version": 3
   },
   "file_extension": ".py",
   "mimetype": "text/x-python",
   "name": "python",
   "nbconvert_exporter": "python",
   "pygments_lexer": "ipython3",
   "version": "3.7.3"
  }
 },
=======
 "cells": [],
 "metadata": {},
>>>>>>> 5a31d985e20298f318e61e95b55ea73f56dc255b
 "nbformat": 4,
 "nbformat_minor": 2
}
