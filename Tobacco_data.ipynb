{
 "cells": [
  {
   "cell_type": "code",
   "execution_count": 1,
   "metadata": {},
   "outputs": [],
   "source": [
    "import numpy as np\n",
    "import pandas as pd\n",
    "from datetime import datetime, timedelta\n",
    "from iexfinance.stocks import get_historical_data\n",
    "from iexfinance.refdata import get_symbols\n",
    "import iexfinance as iex\n",
    "import matplotlib.pyplot as plt\n",
    "%matplotlib inline"
   ]
  },
  {
   "cell_type": "code",
   "execution_count": 7,
   "metadata": {},
   "outputs": [
    {
     "name": "stdout",
     "output_type": "stream",
     "text": [
      "end_date = 2018-09-16 00:00:00, start_date = 2017-10-01 00:00:00     \n"
     ]
    }
   ],
   "source": [
    "list_of_tickers = ['VGR']\n",
    "#end_date= datetime.now()\n",
    "end_date = datetime(2018,9,16)\n",
    "start_date= end_date + timedelta(-350)\n",
    "print(f\"end_date = {end_date}, start_date = {start_date}     \")\n",
    "#tickers_df= get_historical_data(list_of_tickers, start_date, end_date, output_format=\"pandas\", columns='close' )\n",
    "#tickers_df.head()"
   ]
  },
  {
   "cell_type": "code",
   "execution_count": 5,
   "metadata": {},
   "outputs": [
    {
     "data": {
      "text/plain": [
       "{'symbol': 'VGR',\n",
       " 'companyName': 'Vector Group Ltd.',\n",
       " 'primaryExchange': 'New York Stock Exchange',\n",
       " 'calculationPrice': 'tops',\n",
       " 'open': None,\n",
       " 'openTime': None,\n",
       " 'close': None,\n",
       " 'closeTime': None,\n",
       " 'high': None,\n",
       " 'low': None,\n",
       " 'latestPrice': 11.71,\n",
       " 'latestSource': 'IEX real time price',\n",
       " 'latestTime': '2:51:42 PM',\n",
       " 'latestUpdate': 1568832702476,\n",
       " 'latestVolume': None,\n",
       " 'iexRealtimePrice': 11.71,\n",
       " 'iexRealtimeSize': 11,\n",
       " 'iexLastUpdated': 1568832702476,\n",
       " 'delayedPrice': None,\n",
       " 'delayedPriceTime': None,\n",
       " 'extendedPrice': None,\n",
       " 'extendedChange': None,\n",
       " 'extendedChangePercent': None,\n",
       " 'extendedPriceTime': None,\n",
       " 'previousClose': 12.02,\n",
       " 'previousVolume': 1194059,\n",
       " 'change': -0.31,\n",
       " 'changePercent': -0.02579,\n",
       " 'volume': None,\n",
       " 'iexMarketPercent': 0.014852824615071192,\n",
       " 'iexVolume': 9332,\n",
       " 'avgTotalVolume': 1627659,\n",
       " 'iexBidPrice': 11.68,\n",
       " 'iexBidSize': 100,\n",
       " 'iexAskPrice': 0,\n",
       " 'iexAskSize': 0,\n",
       " 'marketCap': 1730632610,\n",
       " 'peRatio': 21.9,\n",
       " 'week52High': 13.93,\n",
       " 'week52Low': 8.2,\n",
       " 'ytdChange': 0.25422700000000004,\n",
       " 'lastTradeTime': 1568832702476,\n",
       " 'isUSMarketOpen': True}"
      ]
     },
     "execution_count": 5,
     "metadata": {},
     "output_type": "execute_result"
    }
   ],
   "source": [
    "from iexfinance.stocks import Stock\n",
    "\n",
    "a = Stock(\"VGR\", token=\"pk_4794c1ac12c241ad83257cd6feacf2d5\")\n",
    "a.get_quote()"
   ]
  },
  {
   "cell_type": "code",
   "execution_count": 14,
   "metadata": {},
   "outputs": [
    {
     "ename": "IEXQueryError",
     "evalue": "An error occurred while making the query.",
     "output_type": "error",
     "traceback": [
      "\u001b[1;31m---------------------------------------------------------------------------\u001b[0m",
      "\u001b[1;31mIEXQueryError\u001b[0m                             Traceback (most recent call last)",
      "\u001b[1;32m<ipython-input-14-53757500b3de>\u001b[0m in \u001b[0;36m<module>\u001b[1;34m\u001b[0m\n\u001b[0;32m      5\u001b[0m \u001b[0mend\u001b[0m \u001b[1;33m=\u001b[0m \u001b[0mdatetime\u001b[0m\u001b[1;33m(\u001b[0m\u001b[1;36m2017\u001b[0m\u001b[1;33m,\u001b[0m \u001b[1;36m5\u001b[0m\u001b[1;33m,\u001b[0m \u001b[1;36m1\u001b[0m\u001b[1;33m)\u001b[0m\u001b[1;33m\u001b[0m\u001b[1;33m\u001b[0m\u001b[0m\n\u001b[0;32m      6\u001b[0m \u001b[1;33m\u001b[0m\u001b[0m\n\u001b[1;32m----> 7\u001b[1;33m \u001b[0mdf\u001b[0m \u001b[1;33m=\u001b[0m \u001b[0mget_historical_data\u001b[0m\u001b[1;33m(\u001b[0m\u001b[1;34m\"TSLA\"\u001b[0m\u001b[1;33m,\u001b[0m \u001b[0mstart\u001b[0m\u001b[1;33m,\u001b[0m \u001b[0mend\u001b[0m\u001b[1;33m)\u001b[0m\u001b[1;33m\u001b[0m\u001b[1;33m\u001b[0m\u001b[0m\n\u001b[0m",
      "\u001b[1;32m~\\Anaconda3\\lib\\site-packages\\iexfinance\\stocks\\__init__.py\u001b[0m in \u001b[0;36mget_historical_data\u001b[1;34m(symbols, start, end, close_only, **kwargs)\u001b[0m\n\u001b[0;32m     42\u001b[0m     \"\"\"\n\u001b[0;32m     43\u001b[0m     return HistoricalReader(symbols, start=start, end=end,\n\u001b[1;32m---> 44\u001b[1;33m                             close_only=close_only, **kwargs).fetch()\n\u001b[0m\u001b[0;32m     45\u001b[0m \u001b[1;33m\u001b[0m\u001b[0m\n\u001b[0;32m     46\u001b[0m \u001b[1;33m\u001b[0m\u001b[0m\n",
      "\u001b[1;32m~\\Anaconda3\\lib\\site-packages\\iexfinance\\base.py\u001b[0m in \u001b[0;36mfetch\u001b[1;34m(self, fmt_p, fmt_j)\u001b[0m\n\u001b[0;32m    207\u001b[0m         \"\"\"\n\u001b[0;32m    208\u001b[0m         \u001b[0murl\u001b[0m \u001b[1;33m=\u001b[0m \u001b[0mself\u001b[0m\u001b[1;33m.\u001b[0m\u001b[0m_prepare_query\u001b[0m\u001b[1;33m(\u001b[0m\u001b[1;33m)\u001b[0m\u001b[1;33m\u001b[0m\u001b[1;33m\u001b[0m\u001b[0m\n\u001b[1;32m--> 209\u001b[1;33m         \u001b[0mdata\u001b[0m \u001b[1;33m=\u001b[0m \u001b[0mself\u001b[0m\u001b[1;33m.\u001b[0m\u001b[0m_execute_iex_query\u001b[0m\u001b[1;33m(\u001b[0m\u001b[0murl\u001b[0m\u001b[1;33m)\u001b[0m\u001b[1;33m\u001b[0m\u001b[1;33m\u001b[0m\u001b[0m\n\u001b[0m\u001b[0;32m    210\u001b[0m         \u001b[1;32mreturn\u001b[0m \u001b[0mself\u001b[0m\u001b[1;33m.\u001b[0m\u001b[0m_output_format\u001b[0m\u001b[1;33m(\u001b[0m\u001b[0mdata\u001b[0m\u001b[1;33m,\u001b[0m \u001b[0mfmt_j\u001b[0m\u001b[1;33m=\u001b[0m\u001b[0mfmt_j\u001b[0m\u001b[1;33m,\u001b[0m \u001b[0mfmt_p\u001b[0m\u001b[1;33m=\u001b[0m\u001b[0mfmt_p\u001b[0m\u001b[1;33m)\u001b[0m\u001b[1;33m\u001b[0m\u001b[1;33m\u001b[0m\u001b[0m\n\u001b[0;32m    211\u001b[0m \u001b[1;33m\u001b[0m\u001b[0m\n",
      "\u001b[1;32m~\\Anaconda3\\lib\\site-packages\\iexfinance\\base.py\u001b[0m in \u001b[0;36m_execute_iex_query\u001b[1;34m(self, url)\u001b[0m\n\u001b[0;32m    163\u001b[0m                 \u001b[1;32mreturn\u001b[0m \u001b[0mself\u001b[0m\u001b[1;33m.\u001b[0m\u001b[0m_validate_response\u001b[0m\u001b[1;33m(\u001b[0m\u001b[0mresponse\u001b[0m\u001b[1;33m)\u001b[0m\u001b[1;33m\u001b[0m\u001b[1;33m\u001b[0m\u001b[0m\n\u001b[0;32m    164\u001b[0m             \u001b[0mtime\u001b[0m\u001b[1;33m.\u001b[0m\u001b[0msleep\u001b[0m\u001b[1;33m(\u001b[0m\u001b[0mself\u001b[0m\u001b[1;33m.\u001b[0m\u001b[0mpause\u001b[0m\u001b[1;33m)\u001b[0m\u001b[1;33m\u001b[0m\u001b[1;33m\u001b[0m\u001b[0m\n\u001b[1;32m--> 165\u001b[1;33m         \u001b[1;32mreturn\u001b[0m \u001b[0mself\u001b[0m\u001b[1;33m.\u001b[0m\u001b[0m_handle_error\u001b[0m\u001b[1;33m(\u001b[0m\u001b[0mresponse\u001b[0m\u001b[1;33m)\u001b[0m\u001b[1;33m\u001b[0m\u001b[1;33m\u001b[0m\u001b[0m\n\u001b[0m\u001b[0;32m    166\u001b[0m \u001b[1;33m\u001b[0m\u001b[0m\n\u001b[0;32m    167\u001b[0m     \u001b[1;32mdef\u001b[0m \u001b[0m_handle_error\u001b[0m\u001b[1;33m(\u001b[0m\u001b[0mself\u001b[0m\u001b[1;33m,\u001b[0m \u001b[0mresponse\u001b[0m\u001b[1;33m)\u001b[0m\u001b[1;33m:\u001b[0m\u001b[1;33m\u001b[0m\u001b[1;33m\u001b[0m\u001b[0m\n",
      "\u001b[1;32m~\\Anaconda3\\lib\\site-packages\\iexfinance\\base.py\u001b[0m in \u001b[0;36m_handle_error\u001b[1;34m(self, response)\u001b[0m\n\u001b[0;32m    176\u001b[0m                 \u001b[1;32mraise\u001b[0m \u001b[0mauth_error\u001b[0m\u001b[1;33m(\u001b[0m\u001b[0mauth_msg\u001b[0m\u001b[1;33m)\u001b[0m\u001b[1;33m\u001b[0m\u001b[1;33m\u001b[0m\u001b[0m\n\u001b[0;32m    177\u001b[0m             \u001b[1;32melse\u001b[0m\u001b[1;33m:\u001b[0m\u001b[1;33m\u001b[0m\u001b[1;33m\u001b[0m\u001b[0m\n\u001b[1;32m--> 178\u001b[1;33m                 raise IEXQueryError(\"The query could not be completed. \"\n\u001b[0m\u001b[0;32m    179\u001b[0m                                     \u001b[1;34m\"There was a client-side error with your \"\u001b[0m\u001b[1;33m\u001b[0m\u001b[1;33m\u001b[0m\u001b[0m\n\u001b[0;32m    180\u001b[0m                                     \"request.\")\n",
      "\u001b[1;31mIEXQueryError\u001b[0m: An error occurred while making the query."
     ]
    }
   ],
   "source": [
    "from datetime import datetime\n",
    "from iexfinance.stocks import get_historical_data\n",
    "\n",
    "start = datetime(2017, 1, 1)\n",
    "end = datetime(2017, 5, 1)\n",
    "\n",
    "df = get_historical_data(\"TSLA\", start, end)"
   ]
  },
  {
   "cell_type": "code",
   "execution_count": null,
   "metadata": {},
   "outputs": [],
   "source": []
  }
 ],
 "metadata": {
  "kernelspec": {
   "display_name": "Python 3",
   "language": "python",
   "name": "python3"
  },
  "language_info": {
   "codemirror_mode": {
    "name": "ipython",
    "version": 3
   },
   "file_extension": ".py",
   "mimetype": "text/x-python",
   "name": "python",
   "nbconvert_exporter": "python",
   "pygments_lexer": "ipython3",
   "version": "3.7.3"
  }
 },
 "nbformat": 4,
 "nbformat_minor": 4
}
